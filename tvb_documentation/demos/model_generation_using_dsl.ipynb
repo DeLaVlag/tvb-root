{
 "cells": [
  {
   "cell_type": "markdown",
   "metadata": {},
   "source": [
    "# Defining new models in TVB using the TVB DSL\n",
    "\n",
    "In this demo we show how to use the TVB DSL in order to automatically generate model code and execute it in the TVB simulator. \n",
    "The TVB DSL is an extension of LEMS and is defined using XML syntax. \n",
    "\n",
    "## First let us load the necessary functions to generate code"
   ]
  },
  {
   "cell_type": "code",
<<<<<<< Updated upstream
   "execution_count": 16,
=======
   "execution_count": 4,
>>>>>>> Stashed changes
   "metadata": {},
   "outputs": [
    {
     "ename": "ImportError",
     "evalue": "No module named dsl.LEMS2python",
     "output_type": "error",
     "traceback": [
      "\u001b[0;31m---------------------------------------------------------------------------\u001b[0m",
      "\u001b[0;31mImportError\u001b[0m                               Traceback (most recent call last)",
      "\u001b[0;32m<ipython-input-4-38970192db76>\u001b[0m in \u001b[0;36m<module>\u001b[0;34m()\u001b[0m\n\u001b[0;32m----> 1\u001b[0;31m \u001b[0;32mimport\u001b[0m \u001b[0mtvb\u001b[0m\u001b[0;34m.\u001b[0m\u001b[0mdsl\u001b[0m\u001b[0;34m.\u001b[0m\u001b[0mLEMS2python\u001b[0m \u001b[0;32mas\u001b[0m \u001b[0mtemplating\u001b[0m\u001b[0;34m\u001b[0m\u001b[0m\n\u001b[0m\u001b[1;32m      2\u001b[0m \u001b[0;32mfrom\u001b[0m \u001b[0mIPython\u001b[0m\u001b[0;34m.\u001b[0m\u001b[0mdisplay\u001b[0m \u001b[0;32mimport\u001b[0m \u001b[0mCode\u001b[0m\u001b[0;34m\u001b[0m\u001b[0m\n",
      "\u001b[0;31mImportError\u001b[0m: No module named dsl.LEMS2python"
     ]
    }
   ],
   "source": [
    "import tvb.dsl.LEMS2python as templating\n",
    "from IPython.display import Code"
   ]
  },
  {
   "cell_type": "markdown",
   "metadata": {},
   "source": [
    "In this demo we will define a new model to TVB called the Montbrio model. This model is based on: **Montbrió, Ernest, Diego Pazó, and Alex Roxin. \"Macroscopic description for networks of spiking neurons.\" Physical Review X 5.2 (2015): 021028**.\n",
    "This is a model with two state variables derived from on a network of all-to-all coupled heterogeneous quadratic\n",
    "integrate-and-fire QIF neurons, which is exact in the thermodynamic limit.\n"
   ]
  },
  {
   "cell_type": "markdown",
   "metadata": {},
   "source": [
    "## Getting to know the TVB DSL\n",
    "\n",
    "In the example of the montbrio model, we can see different elements which allow us to express the model variables and dynamics. We can now take a deeper look into each component.\n",
    "\n",
    "Lets start with the definition of the model name and description documentation. This is done by defining a new Component using the keyword **ComponentType**. \n",
    "```xml\n",
    "<ComponentType name=\"MontbrioT\" description=\"This is a demo describing the Montbrio model\" value=\"\">\n",
    "```\n"
   ]
  },
  {
   "cell_type": "markdown",
   "metadata": {},
   "source": [
    "Constants for a model are defined using the **Constant** keyword, such as in: \n",
    "```xml\n",
    "<Constant name=\"I\" domain=\"lo=-10.0, hi=10.0, step=0.01\" default=\"0.0\" description=\"A constant\"/>\n",
    "```\n",
    "\n",
    "The domain specification allows TVB to check if a value set by the user to this constant before simulation is within the expected range or not."
   ]
  },
  {
   "cell_type": "markdown",
   "metadata": {},
   "source": [
    "The model dynamics are specified in a special section tagged as **Dynamics**. Inside this section we can define state variables using the keyword **StateVariable**, other variables derived from combinations of constants and state variables using the keyword **DerivedVariable**, and the time derivatives of the model with the keyword **TimeDerivative**. Some examples are illustrated below:\n",
    "```xml\n",
    "<StateVariable name=\"r\" default=\"0., 2.0\" boundaries=\"0.0, inf\"/>\n",
    "```\n",
    "The default term defines the range within which the default value of this state variable can be defined before the simulation takes place. The boundaries specify hard limits for the values of these variables in order to avoid numerical overflows.\n",
    "\n",
    "```xml\n",
    "<DerivedVariable name=\"Coupling_global\" expression=\"alpha * coupling[0]\"/>\n",
    "```\n",
    "The expression term in the DerivedVariable is used to state the combination of constanst / variables that define the new variable. The experssion is expected to be in Python-like syntax\n",
    "\n",
    "```xml\n",
    "<TimeDerivative name=\"dx\" expression=\"Delta / pi + 2 * V * r - k * r**2 + Gamma * r / pi\"/>\n",
    "```\n",
    "As in the derived variable, the expression term in the TimeDerivative is used to mathematically describe the update in the state variable that will be performed on each integration step and should be expressed in Python-like syntax.\n",
    "\n",
    "It is important to highlight that the order of the definition of the state variables must be preserved for the definition of their time derivatives in order for the DSL to correctly match them."
   ]
  },
  {
   "cell_type": "markdown",
   "metadata": {},
   "source": [
    "Finally, outside of the dynamics section we can use the keyword **Exposure** to define the state variables we are interested on monitoring from the outside e.g.:\n",
    "```xml\n",
    "<Exposure name=\"r\" choices=\"r, V\" default=\"r, V\" description=\"The quantities of interest for monitoring for the Infinite QIF 2D oscillator.\"/>\n",
    "```"
   ]
  },
  {
   "cell_type": "markdown",
   "metadata": {},
   "source": [
    "We can now take a look at the whole XML code which is used to define the Montbrio model. The model in this example has been defined using the DSL in the file /tvb/dsl/NeuroML/XMLmodels."
   ]
  },
  {
   "cell_type": "code",
<<<<<<< Updated upstream
   "execution_count": 2,
=======
   "execution_count": 1,
>>>>>>> Stashed changes
   "metadata": {},
   "outputs": [
    {
     "ename": "NameError",
     "evalue": "name 'Code' is not defined",
     "output_type": "error",
     "traceback": [
      "\u001b[0;31m---------------------------------------------------------------------------\u001b[0m",
      "\u001b[0;31mNameError\u001b[0m                                 Traceback (most recent call last)",
      "\u001b[0;32m<ipython-input-1-45b01d1de7fa>\u001b[0m in \u001b[0;36m<module>\u001b[0;34m()\u001b[0m\n\u001b[1;32m      1\u001b[0m \u001b[0mxmlfile\u001b[0m \u001b[0;34m=\u001b[0m \u001b[0mopen\u001b[0m\u001b[0;34m(\u001b[0m\u001b[0;34m\"../../scientific_library/tvb/dsl/NeuroML/XMLmodels/montbriot.xml\"\u001b[0m\u001b[0;34m,\u001b[0m\u001b[0;34m\"r\"\u001b[0m\u001b[0;34m)\u001b[0m\u001b[0;34m\u001b[0m\u001b[0m\n\u001b[1;32m      2\u001b[0m \u001b[0mmodel\u001b[0m \u001b[0;34m=\u001b[0m\u001b[0mxmlfile\u001b[0m\u001b[0;34m.\u001b[0m\u001b[0mread\u001b[0m\u001b[0;34m(\u001b[0m\u001b[0;34m)\u001b[0m\u001b[0;34m\u001b[0m\u001b[0m\n\u001b[0;32m----> 3\u001b[0;31m \u001b[0mdisplay\u001b[0m\u001b[0;34m(\u001b[0m\u001b[0mCode\u001b[0m\u001b[0;34m(\u001b[0m\u001b[0mmodel\u001b[0m\u001b[0;34m,\u001b[0m \u001b[0mlanguage\u001b[0m\u001b[0;34m=\u001b[0m\u001b[0;34m'xml'\u001b[0m\u001b[0;34m)\u001b[0m\u001b[0;34m)\u001b[0m\u001b[0;34m\u001b[0m\u001b[0m\n\u001b[0m\u001b[1;32m      4\u001b[0m \u001b[0mxmlfile\u001b[0m\u001b[0;34m.\u001b[0m\u001b[0mclose\u001b[0m\u001b[0;34m(\u001b[0m\u001b[0;34m)\u001b[0m\u001b[0;34m\u001b[0m\u001b[0m\n",
      "\u001b[0;31mNameError\u001b[0m: name 'Code' is not defined"
     ]
    }
   ],
   "source": [
    "xmlfile = open(\"../../scientific_library/tvb/dsl/NeuroML/XMLmodels/montbriot.xml\",\"r\")\n",
    "model =xmlfile.read()\n",
    "display(Code(model, language='xml'))\n",
    "xmlfile.close()"
   ]
  },
  {
   "cell_type": "markdown",
   "metadata": {},
   "source": [
    "## Automatically generating the model code and integrating it into TVB\n",
    "\n",
    "We will call the templating function in order to automatically generate the model code. This will be directly moved to the right path in the tvb library so it will be recognized by the simulator when we call it later. Please notice that the name provided to the templating function needs to be the exact name given to the model **ComponentType** in xml."
   ]
  },
  {
   "cell_type": "code",
   "execution_count": 3,
   "metadata": {},
   "outputs": [
    {
     "name": "stdout",
     "output_type": "stream",
     "text": [
      "/home/sandra/Documents/HPC_TVB/tvb-root/scientific_library/tvb/dsl/tmpl8_regTVB.py\n"
     ]
    }
   ],
   "source": [
    "templating.regTVB_templating('MontbrioT')"
   ]
  },
  {
   "cell_type": "markdown",
   "metadata": {},
   "source": [
    "## Testing the new model in a TVB simulation"
   ]
  },
  {
   "cell_type": "code",
   "execution_count": 15,
   "metadata": {},
   "outputs": [
    {
     "name": "stdout",
     "output_type": "stream",
     "text": [
      "WARNING  File 'cortical' not found in ZIP.\n",
      "WARNING  File 'hemispheres' not found in ZIP.\n",
      "WARNING  File 'areas' not found in ZIP.\n"
     ]
    },
    {
     "ename": "TraitTypeError",
     "evalue": "Attribute can't be set to an instance of <class 'str'>\n  attribute tvb.simulator.simulator.Simulator.model = Attr(field_type=<class 'tvb.simulator.models.base.Model'>, default=<tvb.simulator.models.oscillator.Generic2dOscillator object at 0x7f47f0e8fe10>, required=True)",
     "output_type": "error",
     "traceback": [
      "\u001b[0;31m---------------------------------------------------------------------------\u001b[0m",
      "\u001b[0;31mTraitTypeError\u001b[0m                            Traceback (most recent call last)",
      "\u001b[0;32m<ipython-input-15-bd16100cc093>\u001b[0m in \u001b[0;36m<module>\u001b[0;34m\u001b[0m\n\u001b[1;32m     11\u001b[0m \u001b[0mpopulations\u001b[0m\u001b[0;34m.\u001b[0m\u001b[0mconfigure\u001b[0m\u001b[0;34m(\u001b[0m\u001b[0;34m)\u001b[0m\u001b[0;34m\u001b[0m\u001b[0m\n\u001b[1;32m     12\u001b[0m \u001b[0mmonitorsen\u001b[0m \u001b[0;34m=\u001b[0m \u001b[0;34m(\u001b[0m\u001b[0mmonitors\u001b[0m\u001b[0;34m.\u001b[0m\u001b[0mTemporalAverage\u001b[0m\u001b[0;34m(\u001b[0m\u001b[0mperiod\u001b[0m\u001b[0;34m=\u001b[0m\u001b[0;36m10.0\u001b[0m\u001b[0;34m)\u001b[0m\u001b[0;34m)\u001b[0m\u001b[0;34m\u001b[0m\u001b[0m\n\u001b[0;32m---> 13\u001b[0;31m \u001b[0msim\u001b[0m \u001b[0;34m=\u001b[0m \u001b[0msimulator\u001b[0m\u001b[0;34m.\u001b[0m\u001b[0mSimulator\u001b[0m\u001b[0;34m(\u001b[0m\u001b[0mmodel\u001b[0m\u001b[0;34m=\u001b[0m\u001b[0mmodel\u001b[0m\u001b[0;34m,\u001b[0m \u001b[0mconnectivity\u001b[0m\u001b[0;34m=\u001b[0m\u001b[0mwhite_matter\u001b[0m\u001b[0;34m,\u001b[0m \u001b[0mcoupling\u001b[0m\u001b[0;34m=\u001b[0m\u001b[0mwhite_matter_coupling\u001b[0m\u001b[0;34m,\u001b[0m \u001b[0mintegrator\u001b[0m\u001b[0;34m=\u001b[0m\u001b[0mintegrator\u001b[0m\u001b[0;34m,\u001b[0m \u001b[0mmonitors\u001b[0m\u001b[0;34m=\u001b[0m\u001b[0;34m[\u001b[0m\u001b[0mmonitorsen\u001b[0m\u001b[0;34m]\u001b[0m\u001b[0;34m)\u001b[0m\u001b[0;34m\u001b[0m\u001b[0m\n\u001b[0m\u001b[1;32m     14\u001b[0m \u001b[0msim\u001b[0m\u001b[0;34m.\u001b[0m\u001b[0mconfigure\u001b[0m\u001b[0;34m(\u001b[0m\u001b[0;34m)\u001b[0m\u001b[0;34m\u001b[0m\u001b[0m\n\u001b[1;32m     15\u001b[0m \u001b[0;34m(\u001b[0m\u001b[0m_\u001b[0m\u001b[0;34m,\u001b[0m\u001b[0mtavg_data\u001b[0m\u001b[0;34m)\u001b[0m \u001b[0;34m=\u001b[0m \u001b[0msim\u001b[0m\u001b[0;34m.\u001b[0m\u001b[0mrun\u001b[0m\u001b[0;34m(\u001b[0m\u001b[0msimulation_length\u001b[0m\u001b[0;34m=\u001b[0m\u001b[0mself\u001b[0m\u001b[0;34m.\u001b[0m\u001b[0msim_length\u001b[0m\u001b[0;34m)\u001b[0m\u001b[0;34m[\u001b[0m\u001b[0;36m0\u001b[0m\u001b[0;34m]\u001b[0m\u001b[0;34m\u001b[0m\u001b[0m\n",
      "\u001b[0;32m~/Documents/HPC_TVB/tvb-root/scientific_library/tvb/basic/neotraits/_core.py\u001b[0m in \u001b[0;36m__init__\u001b[0;34m(self, **kwargs)\u001b[0m\n\u001b[1;32m    173\u001b[0m                     )\n\u001b[1;32m    174\u001b[0m                 )\n\u001b[0;32m--> 175\u001b[0;31m             \u001b[0msetattr\u001b[0m\u001b[0;34m(\u001b[0m\u001b[0mself\u001b[0m\u001b[0;34m,\u001b[0m \u001b[0mk\u001b[0m\u001b[0;34m,\u001b[0m \u001b[0mv\u001b[0m\u001b[0;34m)\u001b[0m\u001b[0;34m\u001b[0m\u001b[0m\n\u001b[0m\u001b[1;32m    176\u001b[0m \u001b[0;34m\u001b[0m\u001b[0m\n\u001b[1;32m    177\u001b[0m         \u001b[0mself\u001b[0m\u001b[0;34m.\u001b[0m\u001b[0mtags\u001b[0m \u001b[0;34m=\u001b[0m \u001b[0;34m{\u001b[0m\u001b[0;34m}\u001b[0m\u001b[0;34m\u001b[0m\u001b[0m\n",
      "\u001b[0;32m~/Documents/HPC_TVB/tvb-root/scientific_library/tvb/basic/neotraits/_attr.py\u001b[0m in \u001b[0;36m__set__\u001b[0;34m(self, instance, value)\u001b[0m\n\u001b[1;32m    189\u001b[0m                 \u001b[0;32mraise\u001b[0m \u001b[0mTraitAttributeError\u001b[0m\u001b[0;34m(\u001b[0m\u001b[0;34m\"can't write final attribute\"\u001b[0m\u001b[0;34m)\u001b[0m\u001b[0;34m\u001b[0m\u001b[0m\n\u001b[1;32m    190\u001b[0m \u001b[0;34m\u001b[0m\u001b[0m\n\u001b[0;32m--> 191\u001b[0;31m         \u001b[0mvalue\u001b[0m \u001b[0;34m=\u001b[0m \u001b[0mself\u001b[0m\u001b[0;34m.\u001b[0m\u001b[0m_validate_set\u001b[0m\u001b[0;34m(\u001b[0m\u001b[0minstance\u001b[0m\u001b[0;34m,\u001b[0m \u001b[0mvalue\u001b[0m\u001b[0;34m)\u001b[0m\u001b[0;34m\u001b[0m\u001b[0m\n\u001b[0m\u001b[1;32m    192\u001b[0m \u001b[0;34m\u001b[0m\u001b[0m\n\u001b[1;32m    193\u001b[0m         \u001b[0minstance\u001b[0m\u001b[0;34m.\u001b[0m\u001b[0m__dict__\u001b[0m\u001b[0;34m[\u001b[0m\u001b[0mself\u001b[0m\u001b[0;34m.\u001b[0m\u001b[0mfield_name\u001b[0m\u001b[0;34m]\u001b[0m \u001b[0;34m=\u001b[0m \u001b[0mvalue\u001b[0m\u001b[0;34m\u001b[0m\u001b[0m\n",
      "\u001b[0;32m~/Documents/HPC_TVB/tvb-root/scientific_library/tvb/basic/neotraits/_attr.py\u001b[0m in \u001b[0;36m_validate_set\u001b[0;34m(self, instance, value)\u001b[0m\n\u001b[1;32m    141\u001b[0m                 \u001b[0;32mreturn\u001b[0m \u001b[0mvalue\u001b[0m\u001b[0;34m\u001b[0m\u001b[0m\n\u001b[1;32m    142\u001b[0m \u001b[0;34m\u001b[0m\u001b[0m\n\u001b[0;32m--> 143\u001b[0;31m         \u001b[0mself\u001b[0m\u001b[0;34m.\u001b[0m\u001b[0m__validate\u001b[0m\u001b[0;34m(\u001b[0m\u001b[0mvalue\u001b[0m\u001b[0;34m)\u001b[0m\u001b[0;34m\u001b[0m\u001b[0m\n\u001b[0m\u001b[1;32m    144\u001b[0m         \u001b[0;32mreturn\u001b[0m \u001b[0mvalue\u001b[0m\u001b[0;34m\u001b[0m\u001b[0m\n\u001b[1;32m    145\u001b[0m \u001b[0;34m\u001b[0m\u001b[0m\n",
      "\u001b[0;32m~/Documents/HPC_TVB/tvb-root/scientific_library/tvb/basic/neotraits/_attr.py\u001b[0m in \u001b[0;36m__validate\u001b[0;34m(self, value)\u001b[0m\n\u001b[1;32m     90\u001b[0m         \u001b[0;34m\"\"\" check field_type and choices \"\"\"\u001b[0m\u001b[0;34m\u001b[0m\u001b[0m\n\u001b[1;32m     91\u001b[0m         \u001b[0;32mif\u001b[0m \u001b[0;32mnot\u001b[0m \u001b[0misinstance\u001b[0m\u001b[0;34m(\u001b[0m\u001b[0mvalue\u001b[0m\u001b[0;34m,\u001b[0m \u001b[0mself\u001b[0m\u001b[0;34m.\u001b[0m\u001b[0mfield_type\u001b[0m\u001b[0;34m)\u001b[0m\u001b[0;34m:\u001b[0m\u001b[0;34m\u001b[0m\u001b[0m\n\u001b[0;32m---> 92\u001b[0;31m             \u001b[0;32mraise\u001b[0m \u001b[0mTraitTypeError\u001b[0m\u001b[0;34m(\u001b[0m\u001b[0;34m\"Attribute can't be set to an instance of {}\"\u001b[0m\u001b[0;34m.\u001b[0m\u001b[0mformat\u001b[0m\u001b[0;34m(\u001b[0m\u001b[0mtype\u001b[0m\u001b[0;34m(\u001b[0m\u001b[0mvalue\u001b[0m\u001b[0;34m)\u001b[0m\u001b[0;34m)\u001b[0m\u001b[0;34m,\u001b[0m \u001b[0mattr\u001b[0m\u001b[0;34m=\u001b[0m\u001b[0mself\u001b[0m\u001b[0;34m)\u001b[0m\u001b[0;34m\u001b[0m\u001b[0m\n\u001b[0m\u001b[1;32m     93\u001b[0m         \u001b[0;32mif\u001b[0m \u001b[0mself\u001b[0m\u001b[0;34m.\u001b[0m\u001b[0mchoices\u001b[0m \u001b[0;32mis\u001b[0m \u001b[0;32mnot\u001b[0m \u001b[0;32mNone\u001b[0m\u001b[0;34m:\u001b[0m\u001b[0;34m\u001b[0m\u001b[0m\n\u001b[1;32m     94\u001b[0m             \u001b[0;32mif\u001b[0m \u001b[0mvalue\u001b[0m \u001b[0;32mnot\u001b[0m \u001b[0;32min\u001b[0m \u001b[0mself\u001b[0m\u001b[0;34m.\u001b[0m\u001b[0mchoices\u001b[0m \u001b[0;32mand\u001b[0m \u001b[0;32mnot\u001b[0m \u001b[0;34m(\u001b[0m\u001b[0mvalue\u001b[0m \u001b[0;32mis\u001b[0m \u001b[0;32mNone\u001b[0m \u001b[0;32mand\u001b[0m \u001b[0;32mnot\u001b[0m \u001b[0mself\u001b[0m\u001b[0;34m.\u001b[0m\u001b[0mrequired\u001b[0m\u001b[0;34m)\u001b[0m\u001b[0;34m:\u001b[0m\u001b[0;34m\u001b[0m\u001b[0m\n",
      "\u001b[0;31mTraitTypeError\u001b[0m: Attribute can't be set to an instance of <class 'str'>\n  attribute tvb.simulator.simulator.Simulator.model = Attr(field_type=<class 'tvb.simulator.models.base.Model'>, default=<tvb.simulator.models.oscillator.Generic2dOscillator object at 0x7f47f0e8fe10>, required=True)"
     ]
    }
   ],
   "source": [
    "from tvb.simulator.lab import *\n",
    "import numpy as np\n",
    "\n",
    "sim_length = 400\n",
    "white_matter = connectivity.Connectivity.from_file(source_file=\"connectivity_68.zip\")\n",
    "white_matter.configure()\n",
    "white_matter_coupling = coupling.Linear(a=np.array([1.0]))\n",
    "SC = white_matter.weights\n",
    "integrator = integrators.EulerDeterministic(dt=0.1)\n",
    "populations = MontbrioT()\n",
    "populations.configure()\n",
    "monitorsen = (monitors.TemporalAverage(period=10.0))\n",
    "sim = simulator.Simulator(model=model, connectivity=white_matter, coupling=white_matter_coupling, integrator=integrator, monitors=[monitorsen])\n",
    "sim.configure()\n",
    "(_,tavg_data) = sim.run(simulation_length=self.sim_length)[0]\n",
    "print(tavg_data)"
   ]
  },
  {
   "cell_type": "code",
   "execution_count": 11,
   "metadata": {},
   "outputs": [
    {
     "ename": "ImportError",
     "evalue": "No module named 'tvb.simulator.models.MontbrioT'",
     "output_type": "error",
     "traceback": [
      "\u001b[0;31m---------------------------------------------------------------------------\u001b[0m",
      "\u001b[0;31mImportError\u001b[0m                               Traceback (most recent call last)",
      "\u001b[0;32m<ipython-input-11-eb4936910396>\u001b[0m in \u001b[0;36m<module>\u001b[0;34m\u001b[0m\n\u001b[0;32m----> 1\u001b[0;31m \u001b[0;32mimport\u001b[0m \u001b[0mtvb\u001b[0m\u001b[0;34m.\u001b[0m\u001b[0msimulator\u001b[0m\u001b[0;34m.\u001b[0m\u001b[0mmodels\u001b[0m\u001b[0;34m.\u001b[0m\u001b[0mMontbrioT\u001b[0m\u001b[0;34m\u001b[0m\u001b[0m\n\u001b[0m",
      "\u001b[0;31mImportError\u001b[0m: No module named 'tvb.simulator.models.MontbrioT'"
     ]
    }
   ],
   "source": [
    "import tvb.simulator.models.MontbrioT"
   ]
  },
  {
   "cell_type": "code",
   "execution_count": 13,
   "metadata": {},
   "outputs": [],
   "source": [
    "from tvb.simulator.models.montbriot import MontbrioT"
   ]
  },
  {
   "cell_type": "code",
   "execution_count": null,
   "metadata": {},
   "outputs": [],
   "source": []
  }
 ],
 "metadata": {
  "kernelspec": {
   "display_name": "Python 3",
   "language": "python",
   "name": "python3"
  },
  "language_info": {
   "codemirror_mode": {
    "name": "ipython",
    "version": 2
   },
   "file_extension": ".py",
   "mimetype": "text/x-python",
   "name": "python",
   "nbconvert_exporter": "python",
   "pygments_lexer": "ipython2",
   "version": "2.7.17"
  }
 },
 "nbformat": 4,
 "nbformat_minor": 2
}
