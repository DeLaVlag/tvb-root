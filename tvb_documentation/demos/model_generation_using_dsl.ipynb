{
 "cells": [
  {
   "cell_type": "markdown",
   "metadata": {},
   "source": [
    "# Defining new models in TVB using the TVB DSL\n",
    "\n",
    "In this demo we show how to use the TVB DSL in order to automatically generate model code and execute it in the TVB simulator. \n",
    "The TVB DSL is an extension of LEMS and is defined using XML syntax. \n",
    "\n",
    "## First let us load the necessary functions to generate code"
   ]
  },
  {
   "cell_type": "code",
   "execution_count": 1,
   "metadata": {},
   "outputs": [],
   "source": [
    "import tvb.dsl.LEMS2python as templating\n",
    "from IPython.display import Code"
   ]
  },
  {
   "cell_type": "markdown",
   "metadata": {},
   "source": [
    "In this demo we will define a new model to TVB called the Montbrio model. This model is based on: **Montbrió, Ernest, Diego Pazó, and Alex Roxin. \"Macroscopic description for networks of spiking neurons.\" Physical Review X 5.2 (2015): 021028**.\n",
    "This is a model with two state variables derived from on a network of all-to-all coupled heterogeneous quadratic\n",
    "integrate-and-fire QIF neurons, which is exact in the thermodynamic limit.\n"
   ]
  },
  {
   "cell_type": "markdown",
   "metadata": {},
   "source": [
    "## Getting to know the TVB DSL\n",
    "\n",
    "In the example of the montbrio model, we can see different elements which allow us to express the model variables and dynamics. We can now take a deeper look into each component.\n",
    "\n",
    "Lets start with the definition of the model name and description documentation. This is done by defining a new Component using the keyword **ComponentType**. \n",
    "```xml\n",
    "<ComponentType name=\"MontbrioT\" description=\"This is a demo describing the Montbrio model\" value=\"\">\n",
    "```\n"
   ]
  },
  {
   "cell_type": "markdown",
   "metadata": {},
   "source": [
    "Constants for a model are defined using the **Constant** keyword, such as in: \n",
    "```xml\n",
    "<Constant name=\"I\" domain=\"lo=-10.0, hi=10.0, step=0.01\" default=\"0.0\" description=\"A constant\"/>\n",
    "```\n",
    "\n",
    "The domain specification allows TVB to check if a value set by the user to this constant before simulation is within the expected range or not."
   ]
  },
  {
   "cell_type": "markdown",
   "metadata": {},
   "source": [
    "The model dynamics are specified in a special section tagged as **Dynamics**. Inside this section we can define state variables using the keyword **StateVariable**, other variables derived from combinations of constants and state variables using the keyword **DerivedVariable**, and the time derivatives of the model with the keyword **TimeDerivative**. Some examples are illustrated below:\n",
    "```xml\n",
    "<StateVariable name=\"r\" default=\"0., 2.0\" boundaries=\"0.0, inf\"/>\n",
    "```\n",
    "The default term defines the range within which the default value of this state variable can be defined before the simulation takes place. The boundaries specify hard limits for the values of these variables in order to avoid numerical overflows.\n",
    "\n",
    "```xml\n",
    "<DerivedVariable name=\"Coupling_global\" expression=\"alpha * coupling[0]\"/>\n",
    "```\n",
    "The expression term in the DerivedVariable is used to state the combination of constanst / variables that define the new variable. The experssion is expected to be in Python-like syntax\n",
    "\n",
    "```xml\n",
    "<TimeDerivative name=\"dx\" expression=\"Delta / pi + 2 * V * r - k * r**2 + Gamma * r / pi\"/>\n",
    "```\n",
    "As in the derived variable, the expression term in the TimeDerivative is used to mathematically describe the update in the state variable that will be performed on each integration step and should be expressed in Python-like syntax.\n",
    "\n",
    "It is important to highlight that the order of the definition of the state variables must be preserved for the definition of their time derivatives in order for the DSL to correctly match them."
   ]
  },
  {
   "cell_type": "markdown",
   "metadata": {},
   "source": [
    "Finally, outside of the dynamics section we can use the keyword **Exposure** to define the state variables we are interested on monitoring from the outside e.g.:\n",
    "```xml\n",
    "<Exposure name=\"r\" choices=\"r, V\" default=\"r, V\" description=\"The quantities of interest for monitoring for the Infinite QIF 2D oscillator.\"/>\n",
    "```"
   ]
  },
  {
   "cell_type": "markdown",
   "metadata": {},
   "source": [
    "We can now take a look at the whole XML code which is used to define the Montbrio model. The model in this example has been defined using the DSL in the file /tvb/dsl/NeuroML/XMLmodels."
   ]
  },
  {
   "cell_type": "code",
   "execution_count": 11,
   "metadata": {},
   "outputs": [
    {
     "data": {
      "text/html": [
       "<style>.output_html .hll { background-color: #ffffcc }\n",
       ".output_html  { background: #f8f8f8; }\n",
       ".output_html .c { color: #408080; font-style: italic } /* Comment */\n",
       ".output_html .err { border: 1px solid #FF0000 } /* Error */\n",
       ".output_html .k { color: #008000; font-weight: bold } /* Keyword */\n",
       ".output_html .o { color: #666666 } /* Operator */\n",
       ".output_html .ch { color: #408080; font-style: italic } /* Comment.Hashbang */\n",
       ".output_html .cm { color: #408080; font-style: italic } /* Comment.Multiline */\n",
       ".output_html .cp { color: #BC7A00 } /* Comment.Preproc */\n",
       ".output_html .cpf { color: #408080; font-style: italic } /* Comment.PreprocFile */\n",
       ".output_html .c1 { color: #408080; font-style: italic } /* Comment.Single */\n",
       ".output_html .cs { color: #408080; font-style: italic } /* Comment.Special */\n",
       ".output_html .gd { color: #A00000 } /* Generic.Deleted */\n",
       ".output_html .ge { font-style: italic } /* Generic.Emph */\n",
       ".output_html .gr { color: #FF0000 } /* Generic.Error */\n",
       ".output_html .gh { color: #000080; font-weight: bold } /* Generic.Heading */\n",
       ".output_html .gi { color: #00A000 } /* Generic.Inserted */\n",
       ".output_html .go { color: #888888 } /* Generic.Output */\n",
       ".output_html .gp { color: #000080; font-weight: bold } /* Generic.Prompt */\n",
       ".output_html .gs { font-weight: bold } /* Generic.Strong */\n",
       ".output_html .gu { color: #800080; font-weight: bold } /* Generic.Subheading */\n",
       ".output_html .gt { color: #0044DD } /* Generic.Traceback */\n",
       ".output_html .kc { color: #008000; font-weight: bold } /* Keyword.Constant */\n",
       ".output_html .kd { color: #008000; font-weight: bold } /* Keyword.Declaration */\n",
       ".output_html .kn { color: #008000; font-weight: bold } /* Keyword.Namespace */\n",
       ".output_html .kp { color: #008000 } /* Keyword.Pseudo */\n",
       ".output_html .kr { color: #008000; font-weight: bold } /* Keyword.Reserved */\n",
       ".output_html .kt { color: #B00040 } /* Keyword.Type */\n",
       ".output_html .m { color: #666666 } /* Literal.Number */\n",
       ".output_html .s { color: #BA2121 } /* Literal.String */\n",
       ".output_html .na { color: #7D9029 } /* Name.Attribute */\n",
       ".output_html .nb { color: #008000 } /* Name.Builtin */\n",
       ".output_html .nc { color: #0000FF; font-weight: bold } /* Name.Class */\n",
       ".output_html .no { color: #880000 } /* Name.Constant */\n",
       ".output_html .nd { color: #AA22FF } /* Name.Decorator */\n",
       ".output_html .ni { color: #999999; font-weight: bold } /* Name.Entity */\n",
       ".output_html .ne { color: #D2413A; font-weight: bold } /* Name.Exception */\n",
       ".output_html .nf { color: #0000FF } /* Name.Function */\n",
       ".output_html .nl { color: #A0A000 } /* Name.Label */\n",
       ".output_html .nn { color: #0000FF; font-weight: bold } /* Name.Namespace */\n",
       ".output_html .nt { color: #008000; font-weight: bold } /* Name.Tag */\n",
       ".output_html .nv { color: #19177C } /* Name.Variable */\n",
       ".output_html .ow { color: #AA22FF; font-weight: bold } /* Operator.Word */\n",
       ".output_html .w { color: #bbbbbb } /* Text.Whitespace */\n",
       ".output_html .mb { color: #666666 } /* Literal.Number.Bin */\n",
       ".output_html .mf { color: #666666 } /* Literal.Number.Float */\n",
       ".output_html .mh { color: #666666 } /* Literal.Number.Hex */\n",
       ".output_html .mi { color: #666666 } /* Literal.Number.Integer */\n",
       ".output_html .mo { color: #666666 } /* Literal.Number.Oct */\n",
       ".output_html .sa { color: #BA2121 } /* Literal.String.Affix */\n",
       ".output_html .sb { color: #BA2121 } /* Literal.String.Backtick */\n",
       ".output_html .sc { color: #BA2121 } /* Literal.String.Char */\n",
       ".output_html .dl { color: #BA2121 } /* Literal.String.Delimiter */\n",
       ".output_html .sd { color: #BA2121; font-style: italic } /* Literal.String.Doc */\n",
       ".output_html .s2 { color: #BA2121 } /* Literal.String.Double */\n",
       ".output_html .se { color: #BB6622; font-weight: bold } /* Literal.String.Escape */\n",
       ".output_html .sh { color: #BA2121 } /* Literal.String.Heredoc */\n",
       ".output_html .si { color: #BB6688; font-weight: bold } /* Literal.String.Interpol */\n",
       ".output_html .sx { color: #008000 } /* Literal.String.Other */\n",
       ".output_html .sr { color: #BB6688 } /* Literal.String.Regex */\n",
       ".output_html .s1 { color: #BA2121 } /* Literal.String.Single */\n",
       ".output_html .ss { color: #19177C } /* Literal.String.Symbol */\n",
       ".output_html .bp { color: #008000 } /* Name.Builtin.Pseudo */\n",
       ".output_html .fm { color: #0000FF } /* Name.Function.Magic */\n",
       ".output_html .vc { color: #19177C } /* Name.Variable.Class */\n",
       ".output_html .vg { color: #19177C } /* Name.Variable.Global */\n",
       ".output_html .vi { color: #19177C } /* Name.Variable.Instance */\n",
       ".output_html .vm { color: #19177C } /* Name.Variable.Magic */\n",
       ".output_html .il { color: #666666 } /* Literal.Number.Integer.Long */</style><div class=\"highlight\"><pre><span></span><span class=\"nt\">&lt;Lems</span>\n",
       "      <span class=\"na\">xmlns=</span><span class=\"s\">&quot;http://www.neuroml.org/lems/0.7.4&quot;</span>\n",
       "      <span class=\"na\">xmlns:xsi=</span><span class=\"s\">&quot;http://www.w3.org/2001/XMLSchema-instance&quot;</span>\n",
       "      <span class=\"na\">xsi:schemaLocation=</span><span class=\"s\">&quot;http://www.neuroml.org/lems/0.7.4 ../../LEMS/Schemas/LEMS/LEMS_v0.7.4.xsd&quot;</span>\n",
       "      <span class=\"na\">description=</span><span class=\"s\">&quot;Rate based/population models translated using LEMS.&quot;</span><span class=\"nt\">&gt;</span>\n",
       "\n",
       "    <span class=\"nt\">&lt;ComponentType</span> <span class=\"na\">name=</span><span class=\"s\">&quot;MontbrioT&quot;</span>\n",
       "                   <span class=\"na\">description=</span><span class=\"s\">&quot;2D model describing the Ott-Antonsen reduction of infinitely all-to-all coupled QIF neurons (Theta-neurons).&quot;</span>\n",
       "                   <span class=\"na\">value=</span><span class=\"s\">&quot;&quot;</span><span class=\"nt\">&gt;</span>\n",
       "\n",
       "        <span class=\"c\">&lt;!-- If empty then none --&gt;</span>\n",
       "        <span class=\"nt\">&lt;Constant</span> <span class=\"na\">name=</span><span class=\"s\">&quot;I&quot;</span> <span class=\"na\">domain=</span><span class=\"s\">&quot;lo=-10.0, hi=10.0, step=0.01&quot;</span> <span class=\"na\">default=</span><span class=\"s\">&quot;0.0&quot;</span> <span class=\"na\">description=</span><span class=\"s\">&quot;???&quot;</span><span class=\"nt\">/&gt;</span>\n",
       "        <span class=\"nt\">&lt;Constant</span> <span class=\"na\">name=</span><span class=\"s\">&quot;Delta&quot;</span> <span class=\"na\">domain=</span><span class=\"s\">&quot;lo=0.0, hi=10.0, step=0.01&quot;</span> <span class=\"na\">default=</span><span class=\"s\">&quot;1.0&quot;</span> <span class=\"na\">description=</span><span class=\"s\">&quot;Vertical shift of the configurable nullcline.&quot;</span><span class=\"nt\">/&gt;</span>\n",
       "        <span class=\"nt\">&lt;Constant</span> <span class=\"na\">name=</span><span class=\"s\">&quot;alpha&quot;</span> <span class=\"na\">domain=</span><span class=\"s\">&quot;lo=0.0, hi=1.0, step=0.1&quot;</span> <span class=\"na\">default=</span><span class=\"s\">&quot;1.0&quot;</span> <span class=\"na\">description=</span><span class=\"s\">&quot;:math:`\\alpha` ratio of effect between long-range and local connectivity.&quot;</span><span class=\"nt\">/&gt;</span>\n",
       "        <span class=\"nt\">&lt;Constant</span> <span class=\"na\">name=</span><span class=\"s\">&quot;s&quot;</span> <span class=\"na\">domain=</span><span class=\"s\">&quot;lo=-15.0, hi=15.0, step=0.01&quot;</span> <span class=\"na\">default=</span><span class=\"s\">&quot;0.0&quot;</span> <span class=\"na\">description=</span><span class=\"s\">&quot;QIF membrane reversal potential.&quot;</span><span class=\"nt\">/&gt;</span>\n",
       "        <span class=\"nt\">&lt;Constant</span> <span class=\"na\">name=</span><span class=\"s\">&quot;k&quot;</span> <span class=\"na\">domain=</span><span class=\"s\">&quot;lo=-15.0, hi=15.0, step=0.01&quot;</span> <span class=\"na\">default=</span><span class=\"s\">&quot;0.0&quot;</span> <span class=\"na\">description=</span><span class=\"s\">&quot;Switch for the terms specific to Coombes model.&quot;</span><span class=\"nt\">/&gt;</span>\n",
       "        <span class=\"nt\">&lt;Constant</span> <span class=\"na\">name=</span><span class=\"s\">&quot;J&quot;</span> <span class=\"na\">domain=</span><span class=\"s\">&quot;lo=-25.0, hi=25.0, step=0.0001&quot;</span> <span class=\"na\">default=</span><span class=\"s\">&quot;15.0&quot;</span> <span class=\"na\">description=</span><span class=\"s\">&quot;Constant parameter to scale the rate of feedback from the slow variable to the firing rate variable.&quot;</span><span class=\"nt\">/&gt;</span>\n",
       "        <span class=\"nt\">&lt;Constant</span> <span class=\"na\">name=</span><span class=\"s\">&quot;eta&quot;</span> <span class=\"na\">domain=</span><span class=\"s\">&quot;lo=-10.0, hi=10.0, step=0.0001&quot;</span> <span class=\"na\">default=</span><span class=\"s\">&quot;-5.0&quot;</span> <span class=\"na\">description=</span><span class=\"s\">&quot;Constant parameter to scale the rate of feedback from the firing rate variable to itself&quot;</span><span class=\"nt\">/&gt;</span>\n",
       "        <span class=\"nt\">&lt;Constant</span> <span class=\"na\">name=</span><span class=\"s\">&quot;Gamma&quot;</span> <span class=\"na\">domain=</span><span class=\"s\">&quot;lo=0., hi=10.0, step=0.1&quot;</span> <span class=\"na\">default=</span><span class=\"s\">&quot;0.0&quot;</span> <span class=\"na\">description=</span><span class=\"s\">&quot;Derived from eterogeneous currents and synaptic weights (see Montbrio p.12).&quot;</span><span class=\"nt\">/&gt;</span>\n",
       "        <span class=\"nt\">&lt;Constant</span> <span class=\"na\">name=</span><span class=\"s\">&quot;gamma&quot;</span> <span class=\"na\">domain=</span><span class=\"s\">&quot;lo=-2.0, hi=2.0, step=0.1&quot;</span> <span class=\"na\">default=</span><span class=\"s\">&quot;1.0&quot;</span> <span class=\"na\">description=</span><span class=\"s\">&quot;Constant parameter to reproduce FHN dynamics where excitatory input currents are negative. It scales both I and the long range coupling term.&quot;</span><span class=\"nt\">/&gt;</span>\n",
       "\n",
       "        <span class=\"nt\">&lt;Dynamics&gt;</span>\n",
       "            <span class=\"c\">&lt;!-- &quot;State variable ranges [lo, hi]&quot; values are entered with keyword &quot;default&quot; --&gt;</span>\n",
       "            <span class=\"c\">&lt;!-- For each state variable a set of bondaries can be added to encompass the boundaries of the dynamic range --&gt;</span>\n",
       "            <span class=\"c\">&lt;!-- Leave empty &quot;&quot; for no boundaries. Set None for one-sided boundaries, ie: &quot;1.0, None&quot; --&gt;</span>\n",
       "            <span class=\"nt\">&lt;StateVariable</span> <span class=\"na\">name=</span><span class=\"s\">&quot;r&quot;</span> <span class=\"na\">default=</span><span class=\"s\">&quot;0., 2.0&quot;</span> <span class=\"na\">boundaries=</span><span class=\"s\">&quot;0.0, inf&quot;</span><span class=\"nt\">/&gt;</span>\n",
       "            <span class=\"nt\">&lt;StateVariable</span> <span class=\"na\">name=</span><span class=\"s\">&quot;V&quot;</span> <span class=\"na\">default=</span><span class=\"s\">&quot;-2.0, 1.5&quot;</span> <span class=\"na\">boundaries=</span><span class=\"s\">&quot;&quot;</span><span class=\"nt\">/&gt;</span>\n",
       "\n",
       "            <span class=\"c\">&lt;!-- Derived variables can be used to &#39;easify&#39; the time derivatives, enter the local coupling formulas or any formula --&gt;</span>\n",
       "            <span class=\"c\">&lt;!-- sytax: [name]=[expression] --&gt;</span>\n",
       "            <span class=\"c\">&lt;!-- Define for ex. global and local coupling: c_0 = coupling[0, ] and lc_0 = local_coupling --&gt;</span>\n",
       "            <span class=\"nt\">&lt;DerivedVariable</span> <span class=\"na\">name=</span><span class=\"s\">&quot;Coupling_global&quot;</span> <span class=\"na\">expression=</span><span class=\"s\">&quot;alpha * coupling[0]&quot;</span><span class=\"nt\">/&gt;</span>\n",
       "            <span class=\"nt\">&lt;DerivedVariable</span> <span class=\"na\">name=</span><span class=\"s\">&quot;Coupling_local&quot;</span> <span class=\"na\">expression=</span><span class=\"s\">&quot;(1-alpha) * local_coupling * r&quot;</span><span class=\"nt\">/&gt;</span>\n",
       "            <span class=\"nt\">&lt;DerivedVariable</span> <span class=\"na\">name=</span><span class=\"s\">&quot;Coupling_Term&quot;</span> <span class=\"na\">expression=</span><span class=\"s\">&quot;Coupling_global + Coupling_local&quot;</span><span class=\"nt\">/&gt;</span>\n",
       "\n",
       "            <span class=\"c\">&lt;!-- For conditionals use &amp;lt(=); or &amp;gt;(=) for less- or greater then (equal to)  --&gt;</span>\n",
       "            <span class=\"c\">&lt;!-- Conditional used for if statement, syntax: if {condition} -&gt; {cases[0]} else {cases[1]}. Cases are separated by (,) --&gt;</span>\n",
       "            <span class=\"nt\">&lt;TimeDerivative</span> <span class=\"na\">name=</span><span class=\"s\">&quot;dx&quot;</span> <span class=\"na\">expression=</span><span class=\"s\">&quot;Delta / pi + 2 * V * r - k * r**2 + Gamma * r / pi&quot;</span><span class=\"nt\">/&gt;</span>\n",
       "            <span class=\"nt\">&lt;TimeDerivative</span> <span class=\"na\">name=</span><span class=\"s\">&quot;dy&quot;</span> <span class=\"na\">expression=</span><span class=\"s\">&quot;V**2 - pi**2 * r**2 + eta + (k * s + J) * r - k * V * r + gamma * I + Coupling_Term&quot;</span><span class=\"nt\">/&gt;</span>\n",
       "\n",
       "        <span class=\"nt\">&lt;/Dynamics&gt;</span>\n",
       "\n",
       "        <span class=\"c\">&lt;!-- Exposures are used for observables, for the name enter variable to be observed (usually states)</span>\n",
       "<span class=\"c\">        and for dimension enter the reduction functionality. Will be represented as variables_of_interest.</span>\n",
       "<span class=\"c\">        Choices and default list with a (,) separator--&gt;</span>\n",
       "        <span class=\"nt\">&lt;Exposure</span> <span class=\"na\">name=</span><span class=\"s\">&quot;r&quot;</span> <span class=\"na\">choices=</span><span class=\"s\">&quot;r, V&quot;</span> <span class=\"na\">default=</span><span class=\"s\">&quot;r, V&quot;</span> <span class=\"na\">description=</span><span class=\"s\">&quot;The quantities of interest for monitoring for the Infinite QIF 2D oscillator.&quot;</span><span class=\"nt\">/&gt;</span>\n",
       "\n",
       "    <span class=\"nt\">&lt;/ComponentType&gt;</span>\n",
       "<span class=\"nt\">&lt;/Lems&gt;</span>\n",
       "</pre></div>\n"
      ],
      "text/latex": [
       "\\begin{Verbatim}[commandchars=\\\\\\{\\}]\n",
       "\\PY{n+nt}{\\PYZlt{}Lems}\n",
       "      \\PY{n+na}{xmlns=}\\PY{l+s}{\\PYZdq{}http://www.neuroml.org/lems/0.7.4\\PYZdq{}}\n",
       "      \\PY{n+na}{xmlns:xsi=}\\PY{l+s}{\\PYZdq{}http://www.w3.org/2001/XMLSchema\\PYZhy{}instance\\PYZdq{}}\n",
       "      \\PY{n+na}{xsi:schemaLocation=}\\PY{l+s}{\\PYZdq{}http://www.neuroml.org/lems/0.7.4 ../../LEMS/Schemas/LEMS/LEMS\\PYZus{}v0.7.4.xsd\\PYZdq{}}\n",
       "      \\PY{n+na}{description=}\\PY{l+s}{\\PYZdq{}Rate based/population models translated using LEMS.\\PYZdq{}}\\PY{n+nt}{\\PYZgt{}}\n",
       "\n",
       "    \\PY{n+nt}{\\PYZlt{}ComponentType} \\PY{n+na}{name=}\\PY{l+s}{\\PYZdq{}MontbrioT\\PYZdq{}}\n",
       "                   \\PY{n+na}{description=}\\PY{l+s}{\\PYZdq{}2D model describing the Ott\\PYZhy{}Antonsen reduction of infinitely all\\PYZhy{}to\\PYZhy{}all coupled QIF neurons (Theta\\PYZhy{}neurons).\\PYZdq{}}\n",
       "                   \\PY{n+na}{value=}\\PY{l+s}{\\PYZdq{}\\PYZdq{}}\\PY{n+nt}{\\PYZgt{}}\n",
       "\n",
       "        \\PY{c}{\\PYZlt{}!\\PYZhy{}\\PYZhy{}}\\PY{c}{ If empty then none }\\PY{c}{\\PYZhy{}\\PYZhy{}\\PYZgt{}}\n",
       "        \\PY{n+nt}{\\PYZlt{}Constant} \\PY{n+na}{name=}\\PY{l+s}{\\PYZdq{}I\\PYZdq{}} \\PY{n+na}{domain=}\\PY{l+s}{\\PYZdq{}lo=\\PYZhy{}10.0, hi=10.0, step=0.01\\PYZdq{}} \\PY{n+na}{default=}\\PY{l+s}{\\PYZdq{}0.0\\PYZdq{}} \\PY{n+na}{description=}\\PY{l+s}{\\PYZdq{}???\\PYZdq{}}\\PY{n+nt}{/\\PYZgt{}}\n",
       "        \\PY{n+nt}{\\PYZlt{}Constant} \\PY{n+na}{name=}\\PY{l+s}{\\PYZdq{}Delta\\PYZdq{}} \\PY{n+na}{domain=}\\PY{l+s}{\\PYZdq{}lo=0.0, hi=10.0, step=0.01\\PYZdq{}} \\PY{n+na}{default=}\\PY{l+s}{\\PYZdq{}1.0\\PYZdq{}} \\PY{n+na}{description=}\\PY{l+s}{\\PYZdq{}Vertical shift of the configurable nullcline.\\PYZdq{}}\\PY{n+nt}{/\\PYZgt{}}\n",
       "        \\PY{n+nt}{\\PYZlt{}Constant} \\PY{n+na}{name=}\\PY{l+s}{\\PYZdq{}alpha\\PYZdq{}} \\PY{n+na}{domain=}\\PY{l+s}{\\PYZdq{}lo=0.0, hi=1.0, step=0.1\\PYZdq{}} \\PY{n+na}{default=}\\PY{l+s}{\\PYZdq{}1.0\\PYZdq{}} \\PY{n+na}{description=}\\PY{l+s}{\\PYZdq{}:math:`\\PYZbs{}alpha` ratio of effect between long\\PYZhy{}range and local connectivity.\\PYZdq{}}\\PY{n+nt}{/\\PYZgt{}}\n",
       "        \\PY{n+nt}{\\PYZlt{}Constant} \\PY{n+na}{name=}\\PY{l+s}{\\PYZdq{}s\\PYZdq{}} \\PY{n+na}{domain=}\\PY{l+s}{\\PYZdq{}lo=\\PYZhy{}15.0, hi=15.0, step=0.01\\PYZdq{}} \\PY{n+na}{default=}\\PY{l+s}{\\PYZdq{}0.0\\PYZdq{}} \\PY{n+na}{description=}\\PY{l+s}{\\PYZdq{}QIF membrane reversal potential.\\PYZdq{}}\\PY{n+nt}{/\\PYZgt{}}\n",
       "        \\PY{n+nt}{\\PYZlt{}Constant} \\PY{n+na}{name=}\\PY{l+s}{\\PYZdq{}k\\PYZdq{}} \\PY{n+na}{domain=}\\PY{l+s}{\\PYZdq{}lo=\\PYZhy{}15.0, hi=15.0, step=0.01\\PYZdq{}} \\PY{n+na}{default=}\\PY{l+s}{\\PYZdq{}0.0\\PYZdq{}} \\PY{n+na}{description=}\\PY{l+s}{\\PYZdq{}Switch for the terms specific to Coombes model.\\PYZdq{}}\\PY{n+nt}{/\\PYZgt{}}\n",
       "        \\PY{n+nt}{\\PYZlt{}Constant} \\PY{n+na}{name=}\\PY{l+s}{\\PYZdq{}J\\PYZdq{}} \\PY{n+na}{domain=}\\PY{l+s}{\\PYZdq{}lo=\\PYZhy{}25.0, hi=25.0, step=0.0001\\PYZdq{}} \\PY{n+na}{default=}\\PY{l+s}{\\PYZdq{}15.0\\PYZdq{}} \\PY{n+na}{description=}\\PY{l+s}{\\PYZdq{}Constant parameter to scale the rate of feedback from the slow variable to the firing rate variable.\\PYZdq{}}\\PY{n+nt}{/\\PYZgt{}}\n",
       "        \\PY{n+nt}{\\PYZlt{}Constant} \\PY{n+na}{name=}\\PY{l+s}{\\PYZdq{}eta\\PYZdq{}} \\PY{n+na}{domain=}\\PY{l+s}{\\PYZdq{}lo=\\PYZhy{}10.0, hi=10.0, step=0.0001\\PYZdq{}} \\PY{n+na}{default=}\\PY{l+s}{\\PYZdq{}\\PYZhy{}5.0\\PYZdq{}} \\PY{n+na}{description=}\\PY{l+s}{\\PYZdq{}Constant parameter to scale the rate of feedback from the firing rate variable to itself\\PYZdq{}}\\PY{n+nt}{/\\PYZgt{}}\n",
       "        \\PY{n+nt}{\\PYZlt{}Constant} \\PY{n+na}{name=}\\PY{l+s}{\\PYZdq{}Gamma\\PYZdq{}} \\PY{n+na}{domain=}\\PY{l+s}{\\PYZdq{}lo=0., hi=10.0, step=0.1\\PYZdq{}} \\PY{n+na}{default=}\\PY{l+s}{\\PYZdq{}0.0\\PYZdq{}} \\PY{n+na}{description=}\\PY{l+s}{\\PYZdq{}Derived from eterogeneous currents and synaptic weights (see Montbrio p.12).\\PYZdq{}}\\PY{n+nt}{/\\PYZgt{}}\n",
       "        \\PY{n+nt}{\\PYZlt{}Constant} \\PY{n+na}{name=}\\PY{l+s}{\\PYZdq{}gamma\\PYZdq{}} \\PY{n+na}{domain=}\\PY{l+s}{\\PYZdq{}lo=\\PYZhy{}2.0, hi=2.0, step=0.1\\PYZdq{}} \\PY{n+na}{default=}\\PY{l+s}{\\PYZdq{}1.0\\PYZdq{}} \\PY{n+na}{description=}\\PY{l+s}{\\PYZdq{}Constant parameter to reproduce FHN dynamics where excitatory input currents are negative. It scales both I and the long range coupling term.\\PYZdq{}}\\PY{n+nt}{/\\PYZgt{}}\n",
       "\n",
       "        \\PY{n+nt}{\\PYZlt{}Dynamics}\\PY{n+nt}{\\PYZgt{}}\n",
       "            \\PY{c}{\\PYZlt{}!\\PYZhy{}\\PYZhy{}}\\PY{c}{ \\PYZdq{}State variable ranges [lo, hi]\\PYZdq{} values are entered with keyword \\PYZdq{}default\\PYZdq{} }\\PY{c}{\\PYZhy{}\\PYZhy{}\\PYZgt{}}\n",
       "            \\PY{c}{\\PYZlt{}!\\PYZhy{}\\PYZhy{}}\\PY{c}{ For each state variable a set of bondaries can be added to encompass the boundaries of the dynamic range }\\PY{c}{\\PYZhy{}\\PYZhy{}\\PYZgt{}}\n",
       "            \\PY{c}{\\PYZlt{}!\\PYZhy{}\\PYZhy{}}\\PY{c}{ Leave empty \\PYZdq{}\\PYZdq{} for no boundaries. Set None for one}\\PY{c}{\\PYZhy{}}\\PY{c}{sided boundaries, ie: \\PYZdq{}1.0, None\\PYZdq{} }\\PY{c}{\\PYZhy{}\\PYZhy{}\\PYZgt{}}\n",
       "            \\PY{n+nt}{\\PYZlt{}StateVariable} \\PY{n+na}{name=}\\PY{l+s}{\\PYZdq{}r\\PYZdq{}} \\PY{n+na}{default=}\\PY{l+s}{\\PYZdq{}0., 2.0\\PYZdq{}} \\PY{n+na}{boundaries=}\\PY{l+s}{\\PYZdq{}0.0, inf\\PYZdq{}}\\PY{n+nt}{/\\PYZgt{}}\n",
       "            \\PY{n+nt}{\\PYZlt{}StateVariable} \\PY{n+na}{name=}\\PY{l+s}{\\PYZdq{}V\\PYZdq{}} \\PY{n+na}{default=}\\PY{l+s}{\\PYZdq{}\\PYZhy{}2.0, 1.5\\PYZdq{}} \\PY{n+na}{boundaries=}\\PY{l+s}{\\PYZdq{}\\PYZdq{}}\\PY{n+nt}{/\\PYZgt{}}\n",
       "\n",
       "            \\PY{c}{\\PYZlt{}!\\PYZhy{}\\PYZhy{}}\\PY{c}{ Derived variables can be used to \\PYZsq{}easify\\PYZsq{} the time derivatives, enter the local coupling formulas or any formula }\\PY{c}{\\PYZhy{}\\PYZhy{}\\PYZgt{}}\n",
       "            \\PY{c}{\\PYZlt{}!\\PYZhy{}\\PYZhy{}}\\PY{c}{ sytax: [name]=[expression] }\\PY{c}{\\PYZhy{}\\PYZhy{}\\PYZgt{}}\n",
       "            \\PY{c}{\\PYZlt{}!\\PYZhy{}\\PYZhy{}}\\PY{c}{ Define for ex. global and local coupling: c\\PYZus{}0 = coupling[0, ] and lc\\PYZus{}0 = local\\PYZus{}coupling }\\PY{c}{\\PYZhy{}\\PYZhy{}\\PYZgt{}}\n",
       "            \\PY{n+nt}{\\PYZlt{}DerivedVariable} \\PY{n+na}{name=}\\PY{l+s}{\\PYZdq{}Coupling\\PYZus{}global\\PYZdq{}} \\PY{n+na}{expression=}\\PY{l+s}{\\PYZdq{}alpha * coupling[0]\\PYZdq{}}\\PY{n+nt}{/\\PYZgt{}}\n",
       "            \\PY{n+nt}{\\PYZlt{}DerivedVariable} \\PY{n+na}{name=}\\PY{l+s}{\\PYZdq{}Coupling\\PYZus{}local\\PYZdq{}} \\PY{n+na}{expression=}\\PY{l+s}{\\PYZdq{}(1\\PYZhy{}alpha) * local\\PYZus{}coupling * r\\PYZdq{}}\\PY{n+nt}{/\\PYZgt{}}\n",
       "            \\PY{n+nt}{\\PYZlt{}DerivedVariable} \\PY{n+na}{name=}\\PY{l+s}{\\PYZdq{}Coupling\\PYZus{}Term\\PYZdq{}} \\PY{n+na}{expression=}\\PY{l+s}{\\PYZdq{}Coupling\\PYZus{}global + Coupling\\PYZus{}local\\PYZdq{}}\\PY{n+nt}{/\\PYZgt{}}\n",
       "\n",
       "            \\PY{c}{\\PYZlt{}!\\PYZhy{}\\PYZhy{}}\\PY{c}{ For conditionals use \\PYZam{}lt(=); or \\PYZam{}gt;(=) for less}\\PY{c}{\\PYZhy{}}\\PY{c}{ or greater then (equal to)  }\\PY{c}{\\PYZhy{}\\PYZhy{}\\PYZgt{}}\n",
       "            \\PY{c}{\\PYZlt{}!\\PYZhy{}\\PYZhy{}}\\PY{c}{ Conditional used for if statement, syntax: if \\PYZob{}condition\\PYZcb{} }\\PY{c}{\\PYZhy{}}\\PY{c}{\\PYZgt{} \\PYZob{}cases[0]\\PYZcb{} else \\PYZob{}cases[1]\\PYZcb{}. Cases are separated by (,) }\\PY{c}{\\PYZhy{}\\PYZhy{}\\PYZgt{}}\n",
       "            \\PY{n+nt}{\\PYZlt{}TimeDerivative} \\PY{n+na}{name=}\\PY{l+s}{\\PYZdq{}dx\\PYZdq{}} \\PY{n+na}{expression=}\\PY{l+s}{\\PYZdq{}Delta / pi + 2 * V * r \\PYZhy{} k * r**2 + Gamma * r / pi\\PYZdq{}}\\PY{n+nt}{/\\PYZgt{}}\n",
       "            \\PY{n+nt}{\\PYZlt{}TimeDerivative} \\PY{n+na}{name=}\\PY{l+s}{\\PYZdq{}dy\\PYZdq{}} \\PY{n+na}{expression=}\\PY{l+s}{\\PYZdq{}V**2 \\PYZhy{} pi**2 * r**2 + eta + (k * s + J) * r \\PYZhy{} k * V * r + gamma * I + Coupling\\PYZus{}Term\\PYZdq{}}\\PY{n+nt}{/\\PYZgt{}}\n",
       "\n",
       "        \\PY{n+nt}{\\PYZlt{}/Dynamics\\PYZgt{}}\n",
       "\n",
       "        \\PY{c}{\\PYZlt{}!\\PYZhy{}\\PYZhy{}}\\PY{c}{ Exposures are used for observables, for the name enter variable to be observed (usually states)}\n",
       "\\PY{c}{        and for dimension enter the reduction functionality. Will be represented as variables\\PYZus{}of\\PYZus{}interest.}\n",
       "\\PY{c}{        Choices and default list with a (,) separator}\\PY{c}{\\PYZhy{}\\PYZhy{}\\PYZgt{}}\n",
       "        \\PY{n+nt}{\\PYZlt{}Exposure} \\PY{n+na}{name=}\\PY{l+s}{\\PYZdq{}r\\PYZdq{}} \\PY{n+na}{choices=}\\PY{l+s}{\\PYZdq{}r, V\\PYZdq{}} \\PY{n+na}{default=}\\PY{l+s}{\\PYZdq{}r, V\\PYZdq{}} \\PY{n+na}{description=}\\PY{l+s}{\\PYZdq{}The quantities of interest for monitoring for the Infinite QIF 2D oscillator.\\PYZdq{}}\\PY{n+nt}{/\\PYZgt{}}\n",
       "\n",
       "    \\PY{n+nt}{\\PYZlt{}/ComponentType\\PYZgt{}}\n",
       "\\PY{n+nt}{\\PYZlt{}/Lems\\PYZgt{}}\n",
       "\\end{Verbatim}\n"
      ],
      "text/plain": [
       "<Lems\n",
       "      xmlns=\"http://www.neuroml.org/lems/0.7.4\"\n",
       "      xmlns:xsi=\"http://www.w3.org/2001/XMLSchema-instance\"\n",
       "      xsi:schemaLocation=\"http://www.neuroml.org/lems/0.7.4 ../../LEMS/Schemas/LEMS/LEMS_v0.7.4.xsd\"\n",
       "      description=\"Rate based/population models translated using LEMS.\">\n",
       "\n",
       "    <ComponentType name=\"MontbrioT\"\n",
       "                   description=\"2D model describing the Ott-Antonsen reduction of infinitely all-to-all coupled QIF neurons (Theta-neurons).\"\n",
       "                   value=\"\">\n",
       "\n",
       "        <!-- If empty then none -->\n",
       "        <Constant name=\"I\" domain=\"lo=-10.0, hi=10.0, step=0.01\" default=\"0.0\" description=\"???\"/>\n",
       "        <Constant name=\"Delta\" domain=\"lo=0.0, hi=10.0, step=0.01\" default=\"1.0\" description=\"Vertical shift of the configurable nullcline.\"/>\n",
       "        <Constant name=\"alpha\" domain=\"lo=0.0, hi=1.0, step=0.1\" default=\"1.0\" description=\":math:`\\alpha` ratio of effect between long-range and local connectivity.\"/>\n",
       "        <Constant name=\"s\" domain=\"lo=-15.0, hi=15.0, step=0.01\" default=\"0.0\" description=\"QIF membrane reversal potential.\"/>\n",
       "        <Constant name=\"k\" domain=\"lo=-15.0, hi=15.0, step=0.01\" default=\"0.0\" description=\"Switch for the terms specific to Coombes model.\"/>\n",
       "        <Constant name=\"J\" domain=\"lo=-25.0, hi=25.0, step=0.0001\" default=\"15.0\" description=\"Constant parameter to scale the rate of feedback from the slow variable to the firing rate variable.\"/>\n",
       "        <Constant name=\"eta\" domain=\"lo=-10.0, hi=10.0, step=0.0001\" default=\"-5.0\" description=\"Constant parameter to scale the rate of feedback from the firing rate variable to itself\"/>\n",
       "        <Constant name=\"Gamma\" domain=\"lo=0., hi=10.0, step=0.1\" default=\"0.0\" description=\"Derived from eterogeneous currents and synaptic weights (see Montbrio p.12).\"/>\n",
       "        <Constant name=\"gamma\" domain=\"lo=-2.0, hi=2.0, step=0.1\" default=\"1.0\" description=\"Constant parameter to reproduce FHN dynamics where excitatory input currents are negative. It scales both I and the long range coupling term.\"/>\n",
       "\n",
       "        <Dynamics>\n",
       "            <!-- \"State variable ranges [lo, hi]\" values are entered with keyword \"default\" -->\n",
       "            <!-- For each state variable a set of bondaries can be added to encompass the boundaries of the dynamic range -->\n",
       "            <!-- Leave empty \"\" for no boundaries. Set None for one-sided boundaries, ie: \"1.0, None\" -->\n",
       "            <StateVariable name=\"r\" default=\"0., 2.0\" boundaries=\"0.0, inf\"/>\n",
       "            <StateVariable name=\"V\" default=\"-2.0, 1.5\" boundaries=\"\"/>\n",
       "\n",
       "            <!-- Derived variables can be used to 'easify' the time derivatives, enter the local coupling formulas or any formula -->\n",
       "            <!-- sytax: [name]=[expression] -->\n",
       "            <!-- Define for ex. global and local coupling: c_0 = coupling[0, ] and lc_0 = local_coupling -->\n",
       "            <DerivedVariable name=\"Coupling_global\" expression=\"alpha * coupling[0]\"/>\n",
       "            <DerivedVariable name=\"Coupling_local\" expression=\"(1-alpha) * local_coupling * r\"/>\n",
       "            <DerivedVariable name=\"Coupling_Term\" expression=\"Coupling_global + Coupling_local\"/>\n",
       "\n",
       "            <!-- For conditionals use &lt(=); or &gt;(=) for less- or greater then (equal to)  -->\n",
       "            <!-- Conditional used for if statement, syntax: if {condition} -> {cases[0]} else {cases[1]}. Cases are separated by (,) -->\n",
       "            <TimeDerivative name=\"dx\" expression=\"Delta / pi + 2 * V * r - k * r**2 + Gamma * r / pi\"/>\n",
       "            <TimeDerivative name=\"dy\" expression=\"V**2 - pi**2 * r**2 + eta + (k * s + J) * r - k * V * r + gamma * I + Coupling_Term\"/>\n",
       "\n",
       "        </Dynamics>\n",
       "\n",
       "        <!-- Exposures are used for observables, for the name enter variable to be observed (usually states)\n",
       "        and for dimension enter the reduction functionality. Will be represented as variables_of_interest.\n",
       "        Choices and default list with a (,) separator-->\n",
       "        <Exposure name=\"r\" choices=\"r, V\" default=\"r, V\" description=\"The quantities of interest for monitoring for the Infinite QIF 2D oscillator.\"/>\n",
       "\n",
       "    </ComponentType>\n",
       "</Lems>"
      ]
     },
     "metadata": {},
     "output_type": "display_data"
    }
   ],
   "source": [
    "xmlfile = open(\"../../scientific_library/tvb/dsl/NeuroML/XMLmodels/montbriot.xml\",\"r\")\n",
    "model =xmlfile.read()\n",
    "display(Code(model, language='xml'))\n",
    "xmlfile.close()"
   ]
  },
  {
   "cell_type": "markdown",
   "metadata": {},
   "source": [
    "## Automatically generating the model code and integrating it into TVB\n",
    "\n",
    "We will call the templating function in order to automatically generate the model code. This will be directly moved to the right path in the tvb library so it will be recognized by the simulator when we call it later."
   ]
  },
  {
   "cell_type": "code",
   "execution_count": 1,
   "metadata": {},
   "outputs": [
    {
     "name": "stdout",
     "output_type": "stream",
     "text": [
      "['', '/usr/local/lib/python3.5/dist-packages/sdict-0.1.0-py3.5.egg', '/home/sandra/Documents/HPC_TVB/tvb-root/tvb_documentation/demos', '/home/sandra/Documents/HPC_TVB/tvb-root/scientific_library', '/usr/lib/python35.zip', '/usr/lib/python3.5', '/usr/lib/python3.5/plat-x86_64-linux-gnu', '/usr/lib/python3.5/lib-dynload', '/home/sandra/.local/lib/python3.5/site-packages', '/usr/local/lib/python3.5/dist-packages', '/usr/lib/python3/dist-packages', '/home/sandra/.local/lib/python3.5/site-packages/IPython/extensions', '/home/sandra/.ipython', '/home/sandra/Documents/HPC_TVB/tvb-root/scientific_library/tvb/dsl/NeuroML/lems']\n",
      "/home/sandra/Documents/HPC_TVB/tvb-root/scientific_library/tvb/dsl/tmpl8_regTVB.py\n"
     ]
    }
   ],
   "source": [
    "import tvb.dsl.LEMS2python as templating\n",
    "templating.regTVB_templating('MontbrioT')"
   ]
  },
  {
   "cell_type": "markdown",
   "metadata": {},
   "source": [
    "## Testing the new model in a TVB simulation"
   ]
  },
  {
   "cell_type": "code",
   "execution_count": 2,
   "metadata": {},
   "outputs": [
    {
     "name": "stdout",
     "output_type": "stream",
     "text": [
      "2020-03-04 11:22:35,090 - WARNING - tvb.simulator.common - psutil module not available: no warnings will be issued when a\n",
      "    simulation may require more memory than available\n",
      "   INFO  log level set to INFO\n"
     ]
    },
    {
     "name": "stderr",
     "output_type": "stream",
     "text": [
      "/home/sandra/Documents/HPC_TVB/tvb-root/scientific_library/tvb/datatypes/surfaces.py:61: UserWarning: Geodesic distance module is unavailable; some functionality for surfaces will be unavailable.\n",
      "  warnings.warn(msg)\n"
     ]
    },
    {
     "ename": "ImportError",
     "evalue": "No module named 'simulator'",
     "output_type": "error",
     "traceback": [
      "\u001b[0;31m---------------------------------------------------------------------------\u001b[0m",
      "\u001b[0;31mImportError\u001b[0m                               Traceback (most recent call last)",
      "\u001b[0;32m<ipython-input-2-3f57966e3d95>\u001b[0m in \u001b[0;36m<module>\u001b[0;34m\u001b[0m\n\u001b[0;32m----> 1\u001b[0;31m \u001b[0;32mfrom\u001b[0m \u001b[0mtvb\u001b[0m\u001b[0;34m.\u001b[0m\u001b[0msimulator\u001b[0m\u001b[0;34m.\u001b[0m\u001b[0mlab\u001b[0m \u001b[0;32mimport\u001b[0m \u001b[0;34m*\u001b[0m\u001b[0;34m\u001b[0m\u001b[0m\n\u001b[0m\u001b[1;32m      2\u001b[0m \u001b[0;34m\u001b[0m\u001b[0m\n\u001b[1;32m      3\u001b[0m \u001b[0msim_length\u001b[0m \u001b[0;34m=\u001b[0m \u001b[0;36m400\u001b[0m\u001b[0;34m\u001b[0m\u001b[0m\n\u001b[1;32m      4\u001b[0m \u001b[0mwhite_matter\u001b[0m \u001b[0;34m=\u001b[0m \u001b[0mconnectivity\u001b[0m\u001b[0;34m.\u001b[0m\u001b[0mConnectivity\u001b[0m\u001b[0;34m.\u001b[0m\u001b[0mfrom_file\u001b[0m\u001b[0;34m(\u001b[0m\u001b[0msource_file\u001b[0m\u001b[0;34m=\u001b[0m\u001b[0;34m\"connectivity_68.zip\"\u001b[0m\u001b[0;34m)\u001b[0m\u001b[0;34m\u001b[0m\u001b[0m\n\u001b[1;32m      5\u001b[0m \u001b[0mwhite_matter\u001b[0m\u001b[0;34m.\u001b[0m\u001b[0mconfigure\u001b[0m\u001b[0;34m(\u001b[0m\u001b[0;34m)\u001b[0m\u001b[0;34m\u001b[0m\u001b[0m\n",
      "\u001b[0;32m~/Documents/HPC_TVB/tvb-root/scientific_library/tvb/simulator/lab.py\u001b[0m in \u001b[0;36m<module>\u001b[0;34m\u001b[0m\n\u001b[1;32m     55\u001b[0m \u001b[0mlog_debug\u001b[0m\u001b[0;34m(\u001b[0m\u001b[0;32mFalse\u001b[0m\u001b[0;34m)\u001b[0m\u001b[0;34m\u001b[0m\u001b[0m\n\u001b[1;32m     56\u001b[0m \u001b[0;34m\u001b[0m\u001b[0m\n\u001b[0;32m---> 57\u001b[0;31m \u001b[0;32mfrom\u001b[0m \u001b[0mtvb\u001b[0m\u001b[0;34m.\u001b[0m\u001b[0msimulator\u001b[0m \u001b[0;32mimport\u001b[0m \u001b[0;34m(\u001b[0m\u001b[0msimulator\u001b[0m\u001b[0;34m,\u001b[0m \u001b[0mmodels\u001b[0m\u001b[0;34m,\u001b[0m \u001b[0mcoupling\u001b[0m\u001b[0;34m,\u001b[0m \u001b[0mintegrators\u001b[0m\u001b[0;34m,\u001b[0m \u001b[0mmonitors\u001b[0m\u001b[0;34m,\u001b[0m \u001b[0mnoise\u001b[0m\u001b[0;34m)\u001b[0m\u001b[0;34m\u001b[0m\u001b[0m\n\u001b[0m\u001b[1;32m     58\u001b[0m from tvb.datatypes import (connectivity, surfaces, equations, patterns, region_mapping, sensors, cortex,\n\u001b[1;32m     59\u001b[0m                            local_connectivity, time_series)\n",
      "\u001b[0;32m~/Documents/HPC_TVB/tvb-root/scientific_library/tvb/simulator/simulator.py\u001b[0m in \u001b[0;36m<module>\u001b[0;34m\u001b[0m\n\u001b[1;32m     46\u001b[0m \u001b[0;32mfrom\u001b[0m \u001b[0mtvb\u001b[0m\u001b[0;34m.\u001b[0m\u001b[0mbasic\u001b[0m\u001b[0;34m.\u001b[0m\u001b[0mprofile\u001b[0m \u001b[0;32mimport\u001b[0m \u001b[0mTvbProfile\u001b[0m\u001b[0;34m\u001b[0m\u001b[0m\n\u001b[1;32m     47\u001b[0m \u001b[0;32mfrom\u001b[0m \u001b[0mtvb\u001b[0m\u001b[0;34m.\u001b[0m\u001b[0mdatatypes\u001b[0m \u001b[0;32mimport\u001b[0m \u001b[0mcortex\u001b[0m\u001b[0;34m,\u001b[0m \u001b[0mconnectivity\u001b[0m\u001b[0;34m,\u001b[0m \u001b[0mpatterns\u001b[0m\u001b[0;34m\u001b[0m\u001b[0m\n\u001b[0;32m---> 48\u001b[0;31m \u001b[0;32mfrom\u001b[0m \u001b[0mtvb\u001b[0m\u001b[0;34m.\u001b[0m\u001b[0msimulator\u001b[0m \u001b[0;32mimport\u001b[0m \u001b[0mmodels\u001b[0m\u001b[0;34m,\u001b[0m \u001b[0mintegrators\u001b[0m\u001b[0;34m,\u001b[0m \u001b[0mmonitors\u001b[0m\u001b[0;34m,\u001b[0m \u001b[0mcoupling\u001b[0m\u001b[0;34m\u001b[0m\u001b[0m\n\u001b[0m\u001b[1;32m     49\u001b[0m \u001b[0;32mfrom\u001b[0m \u001b[0;34m.\u001b[0m\u001b[0mcommon\u001b[0m \u001b[0;32mimport\u001b[0m \u001b[0mpsutil\u001b[0m\u001b[0;34m,\u001b[0m \u001b[0mnumpy_add_at\u001b[0m\u001b[0;34m\u001b[0m\u001b[0m\n\u001b[1;32m     50\u001b[0m \u001b[0;32mfrom\u001b[0m \u001b[0;34m.\u001b[0m\u001b[0mhistory\u001b[0m \u001b[0;32mimport\u001b[0m \u001b[0mSparseHistory\u001b[0m\u001b[0;34m\u001b[0m\u001b[0m\n",
      "\u001b[0;32m~/Documents/HPC_TVB/tvb-root/scientific_library/tvb/simulator/models/__init__.py\u001b[0m in \u001b[0;36m<module>\u001b[0;34m\u001b[0m\n\u001b[1;32m     42\u001b[0m \u001b[0;32mfrom\u001b[0m \u001b[0;34m.\u001b[0m\u001b[0mepileptor\u001b[0m \u001b[0;32mimport\u001b[0m \u001b[0mEpileptor\u001b[0m\u001b[0;34m\u001b[0m\u001b[0m\n\u001b[1;32m     43\u001b[0m \u001b[0;32mfrom\u001b[0m \u001b[0;34m.\u001b[0m\u001b[0mepileptor_rs\u001b[0m \u001b[0;32mimport\u001b[0m \u001b[0mEpileptorRestingState\u001b[0m\u001b[0;34m\u001b[0m\u001b[0m\n\u001b[0;32m---> 44\u001b[0;31m \u001b[0;32mfrom\u001b[0m \u001b[0;34m.\u001b[0m\u001b[0mepileptorcodim3\u001b[0m \u001b[0;32mimport\u001b[0m \u001b[0mEpileptorCodim3\u001b[0m\u001b[0;34m,\u001b[0m \u001b[0mEpileptorCodim3SlowMod\u001b[0m\u001b[0;34m\u001b[0m\u001b[0m\n\u001b[0m\u001b[1;32m     45\u001b[0m \u001b[0;32mfrom\u001b[0m \u001b[0;34m.\u001b[0m\u001b[0mhopfield\u001b[0m \u001b[0;32mimport\u001b[0m \u001b[0mHopfield\u001b[0m\u001b[0;34m\u001b[0m\u001b[0m\n\u001b[1;32m     46\u001b[0m \u001b[0;32mfrom\u001b[0m \u001b[0;34m.\u001b[0m\u001b[0mjansen_rit\u001b[0m \u001b[0;32mimport\u001b[0m \u001b[0mJansenRit\u001b[0m\u001b[0;34m,\u001b[0m \u001b[0mZetterbergJansen\u001b[0m\u001b[0;34m\u001b[0m\u001b[0m\n",
      "\u001b[0;32m~/Documents/HPC_TVB/tvb-root/scientific_library/tvb/simulator/models/epileptorcodim3.py\u001b[0m in \u001b[0;36m<module>\u001b[0;34m\u001b[0m\n\u001b[1;32m      1\u001b[0m \u001b[0;32mimport\u001b[0m \u001b[0mnumpy\u001b[0m\u001b[0;34m\u001b[0m\u001b[0m\n\u001b[1;32m      2\u001b[0m \u001b[0;34m\u001b[0m\u001b[0m\n\u001b[0;32m----> 3\u001b[0;31m \u001b[0;32mfrom\u001b[0m \u001b[0msimulator\u001b[0m\u001b[0;34m.\u001b[0m\u001b[0mmodels\u001b[0m\u001b[0;34m.\u001b[0m\u001b[0mbase\u001b[0m \u001b[0;32mimport\u001b[0m \u001b[0mModelNumbaDfun\u001b[0m\u001b[0;34m\u001b[0m\u001b[0m\n\u001b[0m\u001b[1;32m      4\u001b[0m \u001b[0;32mfrom\u001b[0m \u001b[0mnumba\u001b[0m \u001b[0;32mimport\u001b[0m \u001b[0mguvectorize\u001b[0m\u001b[0;34m,\u001b[0m \u001b[0mfloat64\u001b[0m\u001b[0;34m,\u001b[0m \u001b[0mint_\u001b[0m\u001b[0;34m\u001b[0m\u001b[0m\n\u001b[1;32m      5\u001b[0m \u001b[0;32mfrom\u001b[0m \u001b[0mtvb\u001b[0m\u001b[0;34m.\u001b[0m\u001b[0mbasic\u001b[0m\u001b[0;34m.\u001b[0m\u001b[0mneotraits\u001b[0m\u001b[0;34m.\u001b[0m\u001b[0mapi\u001b[0m \u001b[0;32mimport\u001b[0m \u001b[0mNArray\u001b[0m\u001b[0;34m,\u001b[0m \u001b[0mList\u001b[0m\u001b[0;34m,\u001b[0m \u001b[0mRange\u001b[0m\u001b[0;34m,\u001b[0m \u001b[0mFinal\u001b[0m\u001b[0;34m\u001b[0m\u001b[0m\n",
      "\u001b[0;31mImportError\u001b[0m: No module named 'simulator'"
     ]
    }
   ],
   "source": [
    "from tvb.simulator.lab import *\n",
    "\n",
    "sim_length = 400\n",
    "white_matter = connectivity.Connectivity.from_file(source_file=\"connectivity_68.zip\")\n",
    "white_matter.configure()\n",
    "white_matter_coupling = coupling.Linear(a=global_coupling)\n",
    "SC = self.connectivity.weights\n",
    "integrator = integrators.EulerDeterministic(dt=0.1)\n",
    "populations = models.Montbriot()\n",
    "populations.configure()\n",
    "monitorsen = (monitors.TemporalAverage(period=self.period))\n",
    "sim = simulator.Simulator(model=model, connectivity=white_matter, coupling=white_matter_coupling, integrator=integrator, monitors=[monitorsen])\n",
    "sim.configure()\n",
    "(_,tavg_data) = sim.run(simulation_length=self.sim_length)[0]\n",
    "print(tavg_data)"
   ]
  },
  {
   "cell_type": "code",
   "execution_count": null,
   "metadata": {},
   "outputs": [],
   "source": []
  }
 ],
 "metadata": {
  "kernelspec": {
   "display_name": "Python 3",
   "language": "python",
   "name": "python3"
  },
  "language_info": {
   "codemirror_mode": {
    "name": "ipython",
    "version": 3
   },
   "file_extension": ".py",
   "mimetype": "text/x-python",
   "name": "python",
   "nbconvert_exporter": "python",
   "pygments_lexer": "ipython3",
   "version": "3.5.2"
  }
 },
 "nbformat": 4,
 "nbformat_minor": 2
}
